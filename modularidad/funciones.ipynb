{
 "cells": [
  {
   "cell_type": "code",
   "execution_count": null,
   "metadata": {},
   "outputs": [],
   "source": [
    "# podemos usar una funcion como condicional.\n",
    "\n",
    "def nombre():\n",
    "    nom = input(\"dame tu nombre: \")\n",
    "    return nom # mediante el return es que poemos hacer que el dato que esta dentro de la funcion, este pueda salir\n",
    "\n",
    "if len(nombre()) >= 4: # en esta condicion queremos comprobar si un el lenhg de un nombre es mayor o igual a 4\n",
    "    print(\"nombre valido\")\n",
    "else:\n",
    "    print(\"nombre invalido\")\n",
    "    \n"
   ]
  },
  {
   "cell_type": "code",
   "execution_count": null,
   "metadata": {},
   "outputs": [],
   "source": [
    "# funciones con argumentos\n",
    "\n",
    "def funcion(x, y): # los parametros de esta funcion son (x,y)\n",
    "    z = (x**2)+(y**2)\n",
    "    print(z)\n",
    "    return z\n",
    "\n",
    "funcion(3,4)"
   ]
  },
  {
   "cell_type": "code",
   "execution_count": null,
   "metadata": {},
   "outputs": [],
   "source": [
    "# argumentos posicionales\n",
    "\n",
    "def build_cpu(vendor, num_cores,  freq):   # la funcion imprime la informacion dependiendo en el orden en la que este como si fuera un array \n",
    "    return dict(\n",
    "        vendor = vendor,\n",
    "        num_cores = num_cores,\n",
    "        freq = freq\n",
    "    ) \n",
    "    \n",
    "print(build_cpu(\"AMD\", 8, 2.7))"
   ]
  },
  {
   "cell_type": "code",
   "execution_count": 5,
   "metadata": {},
   "outputs": [
    {
     "name": "stdout",
     "output_type": "stream",
     "text": [
      "hola Undefined\n"
     ]
    }
   ],
   "source": [
    "# en algonos casos los argumentos los podemos dejar ya establecidos a la hora de crear la funcion de talmanera de que cuando llamemos la funcion de nuevo no tengamos que declarar los argumentos\n",
    "\n",
    "def nombreUsario(nom=\"Undefined\"):\n",
    "    print(\"hola {0}\".format(nom))\n",
    "    \n",
    "nombreUsario()"
   ]
  },
  {
   "cell_type": "code",
   "execution_count": 6,
   "metadata": {},
   "outputs": [
    {
     "name": "stdout",
     "output_type": "stream",
     "text": [
      "30\n"
     ]
    }
   ],
   "source": [
    "# otro ejemplo de argumentos nominales\n",
    "\n",
    "def suma(a=10,b=20):\n",
    "    return a + b\n",
    "\n",
    "c = suma()\n",
    "\n",
    "print(c)"
   ]
  },
  {
   "cell_type": "code",
   "execution_count": 7,
   "metadata": {},
   "outputs": [
    {
     "data": {
      "text/plain": [
       "{'vendor': 'intel', 'num_cores': 2, 'freq': 2.0}"
      ]
     },
     "execution_count": 7,
     "metadata": {},
     "output_type": "execute_result"
    }
   ],
   "source": [
    "# argumentos posicionales y nominales\n",
    "\n",
    "def build_cpu(vendor, num_cores, freq= 2.0):\n",
    "    return dict(\n",
    "        vendor = vendor,\n",
    "        num_cores = num_cores,\n",
    "        freq = freq\n",
    "    )\n",
    "    \n",
    "build_cpu(\"intel\", 2)"
   ]
  },
  {
   "cell_type": "code",
   "execution_count": 13,
   "metadata": {},
   "outputs": [
    {
     "name": "stdout",
     "output_type": "stream",
     "text": [
      "5040\n"
     ]
    }
   ],
   "source": [
    "# ejercicio: Encontrar el factorial de un numero.\n",
    "\n",
    "def factorial(x=5):\n",
    "    y = 1\n",
    "    while True:\n",
    "        y *= x \n",
    "        x -=1\n",
    "        if x == 0: break\n",
    "        \n",
    "    print(y)\n",
    "    \n",
    "factorial(7)"
   ]
  },
  {
   "cell_type": "code",
   "execution_count": 16,
   "metadata": {},
   "outputs": [
    {
     "name": "stdout",
     "output_type": "stream",
     "text": [
      "['20']\n",
      "['hola']\n"
     ]
    }
   ],
   "source": [
    "def buggy(arg):\n",
    "    result = []\n",
    "    result.append(arg)\n",
    "    print(result)\n",
    "    \n",
    "buggy(\"20\")\n",
    "buggy(\"hola\")"
   ]
  },
  {
   "cell_type": "code",
   "execution_count": 18,
   "metadata": {},
   "outputs": [
    {
     "name": "stdout",
     "output_type": "stream",
     "text": [
      "[1, 2, 3, 6, 5, 4, 7, 8, 9, 10]\n",
      "[20]\n"
     ]
    }
   ],
   "source": [
    "def nonBuggy (a, result=None):\n",
    "    if result == None:\n",
    "        result = []\n",
    "        \n",
    "    result.append(a)\n",
    "    print(result)\n",
    "    \n",
    "nonBuggy(10, [1,2,3,6,5,4,7,8,9])\n",
    "nonBuggy(20)"
   ]
  },
  {
   "cell_type": "code",
   "execution_count": 20,
   "metadata": {},
   "outputs": [
    {
     "name": "stdout",
     "output_type": "stream",
     "text": [
      "(1, 2, 3, 4, 5)\n"
     ]
    }
   ],
   "source": [
    "# empaquetar / Desenpaquetar argumentos posicionales\n",
    "\n",
    "\"\"\"\n",
    "Si utilizamos el operador * delante del nombre de un parámetro posicional, estaremos\n",
    "indicando que los argumentos pasados a la función se empaqueten en una tupla:\n",
    "\"\"\"\n",
    "\n",
    "def test_args(*args):\n",
    "    print(f'{args=}')\n",
    "    \n",
    "test_args(1,2,3,4,5)"
   ]
  },
  {
   "cell_type": "code",
   "execution_count": 23,
   "metadata": {},
   "outputs": [
    {
     "data": {
      "text/plain": [
       "45"
      ]
     },
     "execution_count": 23,
     "metadata": {},
     "output_type": "execute_result"
    }
   ],
   "source": [
    "\"\"\"\n",
    "También podemos utilizar esta estrategia para establecer en una función una serie de\n",
    "parámetros como requeridos y recibir el resto de argumentos como opcionales y empaquetados:\n",
    "\"\"\"\n",
    "\n",
    "def suma_all (v1, v2, *args):\n",
    "    total = 0 \n",
    "    for value in (v1, v2) + args:\n",
    "        total += value\n",
    "        \n",
    "    return total\n",
    "\n",
    "suma_all(1,2,3,4,5,6,7,8,9)"
   ]
  },
  {
   "cell_type": "code",
   "execution_count": 25,
   "metadata": {},
   "outputs": [
    {
     "name": "stdout",
     "output_type": "stream",
     "text": [
      "args=((4, 5, 6, 3),)\n",
      "args=(4, 5, 6, 3)\n"
     ]
    }
   ],
   "source": [
    "\"\"\"\n",
    "Existe la posibilidad de usar el asterisco * en la llamada a la función para desempaquetar\n",
    "los argumentos posicionales: \n",
    "\"\"\"\n",
    "\n",
    "def test_args(*args):\n",
    "    print(f'{args=}')\n",
    "    \n",
    "my_args = (4,5,6,3)\n",
    "\n",
    "test_args(my_args) # no existe desempaquetado\n",
    "\n",
    "test_args(*my_args) # si existe desempaquetado\n",
    "\n",
    "\n"
   ]
  },
  {
   "cell_type": "code",
   "execution_count": 30,
   "metadata": {},
   "outputs": [
    {
     "name": "stdout",
     "output_type": "stream",
     "text": [
      "kwargs={'a': 4, 'b': 3, 'c': 7, 'd': 9}\n",
      "kwargs={'nombre': 'luis', 'apellido': 'haro', 'edad': 55, 'clave': 'clave123'}\n"
     ]
    }
   ],
   "source": [
    "\"\"\"\n",
    "Empaquetar/Desempaquetar argumentos nominales.\n",
    "Si utilizamos el operador ** delante del nombre de un parámetro nominal, estaremos\n",
    "indicando que los argumentos pasados a la función se empaqueten en un diccionario:\n",
    "\"\"\"\n",
    "\n",
    "def test_kwargs(**kwargs):\n",
    "    print(f'{kwargs=}')\n",
    "    \n",
    "test_kwargs(a=4, b=3, c=7, d=9)\n",
    "\n",
    "usuario = {\n",
    "    \"nombre\" : \"luis\",\n",
    "    \"apellido\" : \"haro\",\n",
    "    \"edad\" : 55,\n",
    "    \"clave\" : \"clave123\"\n",
    "}\n",
    "\n",
    "test_kwargs(**usuario) # de esta forma podemos desempaquetar un diccionario\n"
   ]
  },
  {
   "cell_type": "code",
   "execution_count": 33,
   "metadata": {},
   "outputs": [
    {
     "name": "stdout",
     "output_type": "stream",
     "text": [
      "<function expo at 0x000001AA30AB05E0>\n",
      "<function expo at 0x000001AA30AB05E0>\n"
     ]
    }
   ],
   "source": [
    "# tambien podemos usar una funcion como argumento de otra\n",
    "\n",
    "def suma(a=5, b=4):\n",
    "    return a + b\n",
    "\n",
    "def resta(a=5, b=5):\n",
    "    return a - b\n",
    "\n",
    "def expo(a, b):\n",
    "    print(expo)\n",
    "    return expo\n",
    "\n",
    "a = expo(suma(10, 10), resta(4,5))\n",
    "print(a)"
   ]
  }
 ],
 "metadata": {
  "interpreter": {
   "hash": "369f2c481f4da34e4445cda3fffd2e751bd1c4d706f27375911949ba6bb62e1c"
  },
  "kernelspec": {
   "display_name": "Python 3.10.4 64-bit",
   "language": "python",
   "name": "python3"
  },
  "language_info": {
   "codemirror_mode": {
    "name": "ipython",
    "version": 3
   },
   "file_extension": ".py",
   "mimetype": "text/x-python",
   "name": "python",
   "nbconvert_exporter": "python",
   "pygments_lexer": "ipython3",
   "version": "3.10.4"
  },
  "orig_nbformat": 4
 },
 "nbformat": 4,
 "nbformat_minor": 2
}
